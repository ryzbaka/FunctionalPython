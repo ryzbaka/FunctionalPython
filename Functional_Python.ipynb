{
  "nbformat": 4,
  "nbformat_minor": 0,
  "metadata": {
    "colab": {
      "name": "Functional Python.ipynb",
      "provenance": [],
      "collapsed_sections": []
    },
    "kernelspec": {
      "name": "python3",
      "display_name": "Python 3"
    }
  },
  "cells": [
    {
      "cell_type": "markdown",
      "metadata": {
        "id": "M0hjKzc1EvvB",
        "colab_type": "text"
      },
      "source": [
        "# What in the World is Functional Programming?\n",
        "\n",
        " * Certain bugs are hard to re create bugs when doing object oriented programming.\n",
        " * Functional programming is a programming paradigm allows developers to write less error prone code\n",
        " by making smaller easily testable programs.\n",
        " * Functional programming brings the idea of mathematical functions.\n",
        "# Imperative vs Declarative Programming\n",
        "  * Imperative programming tells us how to get to some thing\n",
        "  * Declarative programming explicitly what the thing is.\n",
        "  * \"A house a building with 4 walls and a roof\" - Declarative\n",
        "  * \"A house is made by digging a hole, filling it with cement to make a foundation and then build walls and put a roof on top\" - Imperative\n",
        "  * Imperative\n",
        "    * Set x to 0\n",
        "    * Add first number in list to x\n",
        "    * Repeat the second step for all elements of the list\n",
        "    * Divide x by the length of the list\n",
        "  * Declarative\n",
        "    * X is the sum of all the elements in a list divided by it length\n"
      ]
    },
    {
      "cell_type": "code",
      "metadata": {
        "id": "gGfOW2SPICMz",
        "colab_type": "code",
        "colab": {}
      },
      "source": [
        "f=lambda x: sum(x)/len(x)"
      ],
      "execution_count": 0,
      "outputs": []
    },
    {
      "cell_type": "code",
      "metadata": {
        "id": "XvrVLRaBIPEY",
        "colab_type": "code",
        "outputId": "94384423-906b-4d34-9a13-6421757f3f16",
        "colab": {
          "base_uri": "https://localhost:8080/",
          "height": 36
        }
      },
      "source": [
        "f([1,2,3,4])"
      ],
      "execution_count": 0,
      "outputs": [
        {
          "output_type": "execute_result",
          "data": {
            "text/plain": [
              "2.5"
            ]
          },
          "metadata": {
            "tags": []
          },
          "execution_count": 6
        }
      ]
    },
    {
      "cell_type": "code",
      "metadata": {
        "id": "fvUP07YiIUDi",
        "colab_type": "code",
        "colab": {}
      },
      "source": [
        "def imp(someList):\n",
        "  x=0\n",
        "  for i in range(len(someList)):\n",
        "    x+=someList[i]\n",
        "  return x/len(someList)"
      ],
      "execution_count": 0,
      "outputs": []
    },
    {
      "cell_type": "code",
      "metadata": {
        "id": "cHGy6b96Iuus",
        "colab_type": "code",
        "outputId": "7648f909-b4d8-4989-cd3d-ba4e02f23ee0",
        "colab": {
          "base_uri": "https://localhost:8080/",
          "height": 36
        }
      },
      "source": [
        "imp([1,2,3,4])"
      ],
      "execution_count": 0,
      "outputs": [
        {
          "output_type": "execute_result",
          "data": {
            "text/plain": [
              "2.5"
            ]
          },
          "metadata": {
            "tags": []
          },
          "execution_count": 10
        }
      ]
    },
    {
      "cell_type": "markdown",
      "metadata": {
        "id": "NPZUqcTOI5Yl",
        "colab_type": "text"
      },
      "source": [
        "# Immutability\n",
        "* Most of the values in our code have to constant.\n",
        "* This is kinda like how we treat variables in mathematics.\n",
        "* Immutability is important because it saves from constant change of state in the program.\n",
        "* We start with a constant set of data and then use functions to work with them."
      ]
    },
    {
      "cell_type": "markdown",
      "metadata": {
        "id": "BbugcV4VJ_6W",
        "colab_type": "text"
      },
      "source": [
        "# First Class Functions\n",
        "  * Passing functions as arguments into other functions, creating a list of functions or even returning functions from functions allows tremendous flexibility.\n",
        "  * This allows us to combine existing functions to create new functions."
      ]
    },
    {
      "cell_type": "markdown",
      "metadata": {
        "id": "l4OX0zFEKBQI",
        "colab_type": "text"
      },
      "source": [
        "# Separation of Data and Functions\n",
        "* This idea is polar opposite to the idea of OOP where data and functions are wrapped into a class object.\n",
        "* Data should be passed into a function and not have itself be changed and instead return a modified copy( pass by reference is default in python functions so this is somewhat easy).\n",
        "* Classes allow functions to interact with member data indirectly to set up certain rules that allow consistency in data.\n",
        "* In functional programming, data is represented through dictionaries and lists\n"
      ]
    },
    {
      "cell_type": "markdown",
      "metadata": {
        "id": "pfNtl3w7M0yJ",
        "colab_type": "text"
      },
      "source": [
        "# Deep Dive into First Class Functions"
      ]
    },
    {
      "cell_type": "code",
      "metadata": {
        "id": "jzbGoPDHM8JR",
        "colab_type": "code",
        "outputId": "02893a77-4d6f-4a1a-d29c-f422bea9b46d",
        "colab": {
          "base_uri": "https://localhost:8080/",
          "height": 36
        }
      },
      "source": [
        "def sayHello():\n",
        "  print('Hello!')\n",
        "\n",
        "sayHello2=sayHello\n",
        "\n",
        "sayHello2()"
      ],
      "execution_count": 0,
      "outputs": [
        {
          "output_type": "stream",
          "text": [
            "Hello!\n"
          ],
          "name": "stdout"
        }
      ]
    },
    {
      "cell_type": "code",
      "metadata": {
        "id": "Al_mYRMuNNaN",
        "colab_type": "code",
        "colab": {}
      },
      "source": [
        "def fetch_data_fake():# this function is only a decoy to use when developing so as to save time\n",
        "  print('Connecting to some fake database and fetching data...')\n",
        "  return {\n",
        "      'name':'Hamza',\n",
        "      'age':20\n",
        "  }\n",
        "def fetch_data_real():\n",
        "  print('this is the actual function that will be used in production to fetch some real data')\n"
      ],
      "execution_count": 0,
      "outputs": []
    },
    {
      "cell_type": "code",
      "metadata": {
        "id": "2iJk8uErPFmS",
        "colab_type": "code",
        "colab": {}
      },
      "source": [
        "import os"
      ],
      "execution_count": 0,
      "outputs": []
    },
    {
      "cell_type": "code",
      "metadata": {
        "id": "Fm3GGkGSPJQ5",
        "colab_type": "code",
        "colab": {}
      },
      "source": [
        "os.environ[\"MODE\"]='dev' #initialized in the start"
      ],
      "execution_count": 0,
      "outputs": []
    },
    {
      "cell_type": "code",
      "metadata": {
        "id": "k4AepBD6PX_L",
        "colab_type": "code",
        "colab": {}
      },
      "source": [
        "fetch_data=fetch_data_real if os.environ[\"MODE\"] == 'prod' else fetch_data_fake#this is a ternary operator"
      ],
      "execution_count": 0,
      "outputs": []
    },
    {
      "cell_type": "code",
      "metadata": {
        "id": "dpE2xiPqPihz",
        "colab_type": "code",
        "outputId": "9cc62208-f515-4ef7-e2d8-71208666bfa6",
        "colab": {
          "base_uri": "https://localhost:8080/",
          "height": 55
        }
      },
      "source": [
        "fetch_data()"
      ],
      "execution_count": 0,
      "outputs": [
        {
          "output_type": "stream",
          "text": [
            "Connecting to some fake database and fetching data...\n"
          ],
          "name": "stdout"
        },
        {
          "output_type": "execute_result",
          "data": {
            "text/plain": [
              "{'age': 20, 'name': 'Hamza'}"
            ]
          },
          "metadata": {
            "tags": []
          },
          "execution_count": 24
        }
      ]
    },
    {
      "cell_type": "code",
      "metadata": {
        "id": "D9bfARW2QDkr",
        "colab_type": "code",
        "colab": {}
      },
      "source": [
        "import math\n",
        "add_one=lambda x: x+1\n",
        "sub_one=lambda x:x-1\n",
        "square=lambda x:x*x\n",
        "function_list=[add_one,sub_one,square,math.sqrt]"
      ],
      "execution_count": 0,
      "outputs": []
    },
    {
      "cell_type": "code",
      "metadata": {
        "id": "a31duQgiRSHW",
        "colab_type": "code",
        "colab": {}
      },
      "source": [
        "n=3\n",
        "for func in function_list:\n",
        "  n=func(n)"
      ],
      "execution_count": 0,
      "outputs": []
    },
    {
      "cell_type": "code",
      "metadata": {
        "id": "R84MCMD5R352",
        "colab_type": "code",
        "outputId": "9dfd0480-7fea-41c0-924b-cda8a1a07c3b",
        "colab": {
          "base_uri": "https://localhost:8080/",
          "height": 36
        }
      },
      "source": [
        "n"
      ],
      "execution_count": 0,
      "outputs": [
        {
          "output_type": "execute_result",
          "data": {
            "text/plain": [
              "3.0"
            ]
          },
          "metadata": {
            "tags": []
          },
          "execution_count": 33
        }
      ]
    },
    {
      "cell_type": "code",
      "metadata": {
        "id": "bg7sNazhR8Gv",
        "colab_type": "code",
        "outputId": "f0fe8b20-0d69-4ee1-c935-1d5a5da7d7a7",
        "colab": {
          "base_uri": "https://localhost:8080/",
          "height": 55
        }
      },
      "source": [
        "def add(x,y):\n",
        "  return x+y\n",
        "def subtract(x,y):\n",
        "  return x-y\n",
        "def combine(func):\n",
        "  return func(2,3)\n",
        "\n",
        "print(combine(add))\n",
        "print(combine(subtract))"
      ],
      "execution_count": 0,
      "outputs": [
        {
          "output_type": "stream",
          "text": [
            "5\n",
            "-1\n"
          ],
          "name": "stdout"
        }
      ]
    },
    {
      "cell_type": "code",
      "metadata": {
        "id": "LTiXpt4IUruL",
        "colab_type": "code",
        "colab": {}
      },
      "source": [
        "def create_multiplier(a):\n",
        "  def multiplier(x):\n",
        "    return x*a\n",
        "  return multiplier\n",
        "\n",
        "double=create_multiplier(2)\n",
        "triple=create_multiplier(3)"
      ],
      "execution_count": 0,
      "outputs": []
    },
    {
      "cell_type": "code",
      "metadata": {
        "id": "JRtJRHyYVY2V",
        "colab_type": "code",
        "outputId": "8f7f0645-d3e7-429d-df87-772e2bc15b82",
        "colab": {
          "base_uri": "https://localhost:8080/",
          "height": 36
        }
      },
      "source": [
        "double(3)"
      ],
      "execution_count": 0,
      "outputs": [
        {
          "output_type": "execute_result",
          "data": {
            "text/plain": [
              "6"
            ]
          },
          "metadata": {
            "tags": []
          },
          "execution_count": 43
        }
      ]
    },
    {
      "cell_type": "code",
      "metadata": {
        "id": "rNwWuXhRVaBV",
        "colab_type": "code",
        "outputId": "5505831a-4e12-4413-c1d8-91e5ea4a80c6",
        "colab": {
          "base_uri": "https://localhost:8080/",
          "height": 36
        }
      },
      "source": [
        "triple(3)"
      ],
      "execution_count": 0,
      "outputs": [
        {
          "output_type": "execute_result",
          "data": {
            "text/plain": [
              "9"
            ]
          },
          "metadata": {
            "tags": []
          },
          "execution_count": 45
        }
      ]
    },
    {
      "cell_type": "markdown",
      "metadata": {
        "id": "tl7m9XTmV8da",
        "colab_type": "text"
      },
      "source": [
        "# Closure\n"
      ]
    },
    {
      "cell_type": "code",
      "metadata": {
        "id": "EMufx7tXWy0i",
        "colab_type": "code",
        "colab": {}
      },
      "source": [
        "def create_function():\n",
        "  x=5\n",
        "  def inner_function():\n",
        "    print(f'x is {x}')\n",
        "  return inner_function"
      ],
      "execution_count": 0,
      "outputs": []
    },
    {
      "cell_type": "code",
      "metadata": {
        "id": "wAeC8PdVW8ev",
        "colab_type": "code",
        "colab": {}
      },
      "source": [
        "f=create_function()"
      ],
      "execution_count": 0,
      "outputs": []
    },
    {
      "cell_type": "code",
      "metadata": {
        "id": "s5xmC-IeXFFy",
        "colab_type": "code",
        "outputId": "3b526fbb-bc10-47e1-8480-7af105960198",
        "colab": {
          "base_uri": "https://localhost:8080/",
          "height": 36
        }
      },
      "source": [
        "f()"
      ],
      "execution_count": 0,
      "outputs": [
        {
          "output_type": "stream",
          "text": [
            "x is 5\n"
          ],
          "name": "stdout"
        }
      ]
    },
    {
      "cell_type": "markdown",
      "metadata": {
        "id": "FP1pXDHSXIFD",
        "colab_type": "text"
      },
      "source": [
        "The inner function still had access to the variable that was in the parent function."
      ]
    },
    {
      "cell_type": "code",
      "metadata": {
        "id": "SNeF8OurXQag",
        "colab_type": "code",
        "colab": {}
      },
      "source": [
        "def create_counter():\n",
        "  count=0\n",
        "  def getCount():\n",
        "    nonlocal count#the count we are using here is not a new variable local to this scope\n",
        "    return count\n",
        "  def increment():\n",
        "    nonlocal count#the count we are using here is not a new variable local to this scope\n",
        "    count+=1\n",
        "  return (getCount,increment)"
      ],
      "execution_count": 0,
      "outputs": []
    },
    {
      "cell_type": "code",
      "metadata": {
        "id": "BUyYpsjlX4Cq",
        "colab_type": "code",
        "outputId": "b0f6d0a6-db70-4c40-f6a1-6ac1744575f2",
        "colab": {
          "base_uri": "https://localhost:8080/",
          "height": 73
        }
      },
      "source": [
        "get_count, increment=create_counter()\n",
        "print(get_count())\n",
        "increment()\n",
        "print(get_count())\n",
        "increment()\n",
        "print(get_count())"
      ],
      "execution_count": 0,
      "outputs": [
        {
          "output_type": "stream",
          "text": [
            "0\n",
            "1\n",
            "2\n"
          ],
          "name": "stdout"
        }
      ]
    },
    {
      "cell_type": "code",
      "metadata": {
        "id": "ZgDQEfkUX_5D",
        "colab_type": "code",
        "colab": {}
      },
      "source": [
        "def create_iterator(someList):\n",
        "  index=0\n",
        "  '''\n",
        "  def fetch():\n",
        "    nonlocal someList,index\n",
        "    print(someList[index])\n",
        "  def next():\n",
        "    nonlocal index\n",
        "    index+=1\n",
        "  '''\n",
        "  def nextElement():\n",
        "    nonlocal someList,index\n",
        "    value=someList[index]\n",
        "    index+=1\n",
        "    return value\n",
        "  return nextElement"
      ],
      "execution_count": 0,
      "outputs": []
    },
    {
      "cell_type": "code",
      "metadata": {
        "id": "Q2GVB7mmZSwk",
        "colab_type": "code",
        "colab": {}
      },
      "source": [
        "nextFruit=create_iterator(['apple','orange','banana'])"
      ],
      "execution_count": 0,
      "outputs": []
    },
    {
      "cell_type": "code",
      "metadata": {
        "id": "wgwRqo0QZOvF",
        "colab_type": "code",
        "outputId": "c635ae12-4b44-4e86-b857-2b2203467bb7",
        "colab": {
          "base_uri": "https://localhost:8080/",
          "height": 55
        }
      },
      "source": [
        "print(nextFruit())\n",
        "print(nextFruit())#here nextFruit is an iterator"
      ],
      "execution_count": 0,
      "outputs": [
        {
          "output_type": "stream",
          "text": [
            "apple\n",
            "orange\n"
          ],
          "name": "stdout"
        }
      ]
    },
    {
      "cell_type": "code",
      "metadata": {
        "id": "wZFOfAX_XGQJ",
        "colab_type": "code",
        "colab": {}
      },
      "source": [
        "def someOtherFunction(*args):\n",
        "  for arg in args:\n",
        "    print(arg)"
      ],
      "execution_count": 0,
      "outputs": []
    },
    {
      "cell_type": "code",
      "metadata": {
        "id": "yVLYlnSacWo6",
        "colab_type": "code",
        "outputId": "2d0aef6b-be32-4022-fc3a-fee90fc18503",
        "colab": {
          "base_uri": "https://localhost:8080/",
          "height": 111
        }
      },
      "source": [
        "someOtherFunction(1,2,3,4,'hello')"
      ],
      "execution_count": 0,
      "outputs": [
        {
          "output_type": "stream",
          "text": [
            "1\n",
            "2\n",
            "3\n",
            "4\n",
            "hello\n"
          ],
          "name": "stdout"
        }
      ]
    },
    {
      "cell_type": "markdown",
      "metadata": {
        "id": "3mj3Bd-O4B6n",
        "colab_type": "text"
      },
      "source": [
        "# Map"
      ]
    },
    {
      "cell_type": "code",
      "metadata": {
        "id": "B9jf9hl6cZ_W",
        "colab_type": "code",
        "colab": {}
      },
      "source": [
        "someObjects=[\n",
        "             {\n",
        "                 'name':'Hamza',\n",
        "                  'age':20\n",
        "             },\n",
        "             {\n",
        "                 'name':'Vaisakh',\n",
        "                  'age':20\n",
        "             },\n",
        "             {\n",
        "                 'name':'Pranav',\n",
        "                 'age':20\n",
        "             }\n",
        "]"
      ],
      "execution_count": 0,
      "outputs": []
    },
    {
      "cell_type": "code",
      "metadata": {
        "id": "ND-IMCMKzyks",
        "colab_type": "code",
        "colab": {}
      },
      "source": [
        "def getName(obj):\n",
        "  return obj['name']"
      ],
      "execution_count": 0,
      "outputs": []
    },
    {
      "cell_type": "code",
      "metadata": {
        "id": "e4_S4uhpz8Xa",
        "colab_type": "code",
        "colab": {}
      },
      "source": [
        "names=map(getName,someObjects)"
      ],
      "execution_count": 0,
      "outputs": []
    },
    {
      "cell_type": "code",
      "metadata": {
        "id": "IHuUkxgB0AJP",
        "colab_type": "code",
        "colab": {}
      },
      "source": [
        "names=list(names)"
      ],
      "execution_count": 0,
      "outputs": []
    },
    {
      "cell_type": "code",
      "metadata": {
        "id": "HRodguSg0Szo",
        "colab_type": "code",
        "colab": {
          "base_uri": "https://localhost:8080/",
          "height": 34
        },
        "outputId": "56083e59-17d2-492c-8e85-f9b79f0bebfe"
      },
      "source": [
        "names"
      ],
      "execution_count": 9,
      "outputs": [
        {
          "output_type": "execute_result",
          "data": {
            "text/plain": [
              "['Hamza', 'Vaisakh', 'Pranav']"
            ]
          },
          "metadata": {
            "tags": []
          },
          "execution_count": 9
        }
      ]
    },
    {
      "cell_type": "markdown",
      "metadata": {
        "id": "abzn_8Xo4IQC",
        "colab_type": "text"
      },
      "source": [
        "# Filter"
      ]
    },
    {
      "cell_type": "code",
      "metadata": {
        "id": "m65iGgqd0TRA",
        "colab_type": "code",
        "colab": {}
      },
      "source": [
        "def is_even(x):\n",
        "  return x%2==0\n",
        "\n",
        "someNumbers=[1,2,3,4,5,6,7,8]\n",
        "evenNumbers=list(filter(is_even,someNumbers))"
      ],
      "execution_count": 0,
      "outputs": []
    },
    {
      "cell_type": "code",
      "metadata": {
        "id": "3RHceuEO1NZR",
        "colab_type": "code",
        "colab": {
          "base_uri": "https://localhost:8080/",
          "height": 34
        },
        "outputId": "99d125d9-f81f-4c31-9855-259dcc89fdf1"
      },
      "source": [
        "evenNumbers"
      ],
      "execution_count": 11,
      "outputs": [
        {
          "output_type": "execute_result",
          "data": {
            "text/plain": [
              "[2, 4, 6, 8]"
            ]
          },
          "metadata": {
            "tags": []
          },
          "execution_count": 11
        }
      ]
    },
    {
      "cell_type": "markdown",
      "metadata": {
        "id": "ekE-ZUEF4Kyo",
        "colab_type": "text"
      },
      "source": [
        "# Lambda"
      ]
    },
    {
      "cell_type": "code",
      "metadata": {
        "id": "a-rM8YV11Olx",
        "colab_type": "code",
        "colab": {}
      },
      "source": [
        "someLambda=lambda x:'even' if x%2==0 else 'odd'"
      ],
      "execution_count": 0,
      "outputs": []
    },
    {
      "cell_type": "code",
      "metadata": {
        "id": "dpNBEBhJ2dnM",
        "colab_type": "code",
        "colab": {
          "base_uri": "https://localhost:8080/",
          "height": 34
        },
        "outputId": "48043e8c-fcdb-4bba-e055-b5672e9eeac4"
      },
      "source": [
        "someLambda(2)"
      ],
      "execution_count": 13,
      "outputs": [
        {
          "output_type": "execute_result",
          "data": {
            "text/plain": [
              "'even'"
            ]
          },
          "metadata": {
            "tags": []
          },
          "execution_count": 13
        }
      ]
    },
    {
      "cell_type": "code",
      "metadata": {
        "id": "dO-I860I2fUk",
        "colab_type": "code",
        "colab": {
          "base_uri": "https://localhost:8080/",
          "height": 68
        },
        "outputId": "4288dae3-021c-493a-d391-e6e83f09bd96"
      },
      "source": [
        "someObjects"
      ],
      "execution_count": 14,
      "outputs": [
        {
          "output_type": "execute_result",
          "data": {
            "text/plain": [
              "[{'age': 20, 'name': 'Hamza'},\n",
              " {'age': 20, 'name': 'Vaisakh'},\n",
              " {'age': 20, 'name': 'Pranav'}]"
            ]
          },
          "metadata": {
            "tags": []
          },
          "execution_count": 14
        }
      ]
    },
    {
      "cell_type": "code",
      "metadata": {
        "id": "Uue9X6OI21YV",
        "colab_type": "code",
        "colab": {}
      },
      "source": [
        "newAges=list(map(lambda x:x['age']+1 if len(x['name'])<=5 else x['age']-1,someObjects))"
      ],
      "execution_count": 0,
      "outputs": []
    },
    {
      "cell_type": "code",
      "metadata": {
        "id": "nzVbDk3T3M45",
        "colab_type": "code",
        "colab": {
          "base_uri": "https://localhost:8080/",
          "height": 34
        },
        "outputId": "ebe6f32c-1323-4a41-bb02-76477ee8abf3"
      },
      "source": [
        "newAges"
      ],
      "execution_count": 17,
      "outputs": [
        {
          "output_type": "execute_result",
          "data": {
            "text/plain": [
              "[21, 19, 19]"
            ]
          },
          "metadata": {
            "tags": []
          },
          "execution_count": 17
        }
      ]
    },
    {
      "cell_type": "markdown",
      "metadata": {
        "id": "pP6yTcyM4OCI",
        "colab_type": "text"
      },
      "source": [
        "# List Comprehensions"
      ]
    },
    {
      "cell_type": "code",
      "metadata": {
        "id": "IUEivf153QHo",
        "colab_type": "code",
        "colab": {}
      },
      "source": [
        "someList=[i for i in range(0,100) if i%2==0 and i%3==0]"
      ],
      "execution_count": 0,
      "outputs": []
    },
    {
      "cell_type": "code",
      "metadata": {
        "id": "xaIcmyKA34ae",
        "colab_type": "code",
        "colab": {
          "base_uri": "https://localhost:8080/",
          "height": 34
        },
        "outputId": "8b0c48b1-6567-4c20-ef5d-ad9be8565862"
      },
      "source": [
        "someList#multiples of 6"
      ],
      "execution_count": 20,
      "outputs": [
        {
          "output_type": "execute_result",
          "data": {
            "text/plain": [
              "[0, 6, 12, 18, 24, 30, 36, 42, 48, 54, 60, 66, 72, 78, 84, 90, 96]"
            ]
          },
          "metadata": {
            "tags": []
          },
          "execution_count": 20
        }
      ]
    },
    {
      "cell_type": "markdown",
      "metadata": {
        "id": "WozE77ZM5X-O",
        "colab_type": "text"
      },
      "source": [
        "# Reduce"
      ]
    },
    {
      "cell_type": "code",
      "metadata": {
        "id": "YwquPlQ435wh",
        "colab_type": "code",
        "colab": {}
      },
      "source": [
        "from functools import reduce\n",
        "def get_sum(acc,curr):\n",
        "  return acc+curr\n",
        "\n",
        "someList=[1,2,3,4,5]\n",
        "reduced=reduce(get_sum,someList,0)"
      ],
      "execution_count": 0,
      "outputs": []
    },
    {
      "cell_type": "code",
      "metadata": {
        "id": "IFJ7UsQE5yl3",
        "colab_type": "code",
        "colab": {
          "base_uri": "https://localhost:8080/",
          "height": 34
        },
        "outputId": "c1440d7b-faba-4de3-a896-71fbfe3829f9"
      },
      "source": [
        "reduced"
      ],
      "execution_count": 23,
      "outputs": [
        {
          "output_type": "execute_result",
          "data": {
            "text/plain": [
              "15"
            ]
          },
          "metadata": {
            "tags": []
          },
          "execution_count": 23
        }
      ]
    },
    {
      "cell_type": "code",
      "metadata": {
        "id": "OCZ02bkR5-kp",
        "colab_type": "code",
        "colab": {}
      },
      "source": [
        "import time"
      ],
      "execution_count": 0,
      "outputs": []
    },
    {
      "cell_type": "code",
      "metadata": {
        "id": "-B45V-nL67z-",
        "colab_type": "code",
        "colab": {
          "base_uri": "https://localhost:8080/",
          "height": 34
        },
        "outputId": "65c70aa4-e773-4cc5-943e-d228e911a9dd"
      },
      "source": [
        "time.time()"
      ],
      "execution_count": 26,
      "outputs": [
        {
          "output_type": "execute_result",
          "data": {
            "text/plain": [
              "1581402289.3457832"
            ]
          },
          "metadata": {
            "tags": []
          },
          "execution_count": 26
        }
      ]
    },
    {
      "cell_type": "code",
      "metadata": {
        "id": "tQExfW6_6_Nw",
        "colab_type": "code",
        "colab": {
          "base_uri": "https://localhost:8080/",
          "height": 51
        },
        "outputId": "9bd49353-d700-4f05-f230-1a57d4d141b1"
      },
      "source": [
        "import random\n",
        "mainList=[random.randint(1,10000) for i in range(1000000)]\n",
        "def mapFunction(x):\n",
        "  return x**2\n",
        "import numpy as np\n",
        "a=np.array(mainList)\n",
        "#map\n",
        "start=time.time()\n",
        "b=list(map(mapFunction,mainList))\n",
        "print(f'Map Time {time.time()-start}')\n",
        "start=time.time()\n",
        "c=a**2\n",
        "print(f'Numpy Time {time.time()-start}')"
      ],
      "execution_count": 34,
      "outputs": [
        {
          "output_type": "stream",
          "text": [
            "Map Time 0.3205606937408447\n",
            "Numpy Time 0.0025396347045898438\n"
          ],
          "name": "stdout"
        }
      ]
    },
    {
      "cell_type": "code",
      "metadata": {
        "id": "m03V-9v-7zUw",
        "colab_type": "code",
        "colab": {}
      },
      "source": [
        ""
      ],
      "execution_count": 0,
      "outputs": []
    },
    {
      "cell_type": "code",
      "metadata": {
        "id": "oREQ55s568sZ",
        "colab_type": "code",
        "colab": {}
      },
      "source": [
        ""
      ],
      "execution_count": 0,
      "outputs": []
    }
  ]
}